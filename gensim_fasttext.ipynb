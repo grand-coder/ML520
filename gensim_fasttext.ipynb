{
  "nbformat": 4,
  "nbformat_minor": 0,
  "metadata": {
    "colab": {
      "name": "gensim_fasttext.ipynb",
      "version": "0.3.2",
      "provenance": []
    },
    "kernelspec": {
      "name": "python3",
      "display_name": "Python 3"
    }
  },
  "cells": [
    {
      "cell_type": "code",
      "metadata": {
        "id": "ktlFEC7l9TPm",
        "colab_type": "code",
        "colab": {
          "base_uri": "https://localhost:8080/",
          "height": 495
        },
        "outputId": "7cccc3eb-67bb-4351-ffef-b0c01eb852eb"
      },
      "source": [
        "!gunzip -h"
      ],
      "execution_count": 1,
      "outputs": [
        {
          "output_type": "stream",
          "text": [
            "Usage: gzip [OPTION]... [FILE]...\n",
            "Compress or uncompress FILEs (by default, compress FILES in-place).\n",
            "\n",
            "Mandatory arguments to long options are mandatory for short options too.\n",
            "\n",
            "  -c, --stdout      write on standard output, keep original files unchanged\n",
            "  -d, --decompress  decompress\n",
            "  -f, --force       force overwrite of output file and compress links\n",
            "  -h, --help        give this help\n",
            "  -k, --keep        keep (don't delete) input files\n",
            "  -l, --list        list compressed file contents\n",
            "  -L, --license     display software license\n",
            "  -n, --no-name     do not save or restore the original name and time stamp\n",
            "  -N, --name        save or restore the original name and time stamp\n",
            "  -q, --quiet       suppress all warnings\n",
            "  -r, --recursive   operate recursively on directories\n",
            "  -S, --suffix=SUF  use suffix SUF on compressed files\n",
            "  -t, --test        test compressed file integrity\n",
            "  -v, --verbose     verbose mode\n",
            "  -V, --version     display version number\n",
            "  -1, --fast        compress faster\n",
            "  -9, --best        compress better\n",
            "  --rsyncable       Make rsync-friendly archive\n",
            "\n",
            "With no FILE, or when FILE is -, read standard input.\n",
            "\n",
            "Report bugs to <bug-gzip@gnu.org>.\n"
          ],
          "name": "stdout"
        }
      ]
    },
    {
      "cell_type": "code",
      "metadata": {
        "id": "HkZo-KWNetI4",
        "colab_type": "code",
        "colab": {}
      },
      "source": [
        "# 下載fasttext千錘百鍊預訓練好的詞向量\n",
        "!wget https://dl.fbaipublicfiles.com/fasttext/vectors-crawl/cc.en.300.bin.gz\n",
        "!gunzip cc.en.300.bin.gz"
      ],
      "execution_count": 0,
      "outputs": []
    },
    {
      "cell_type": "code",
      "metadata": {
        "id": "eVlV9SjqgWFS",
        "colab_type": "code",
        "colab": {}
      },
      "source": [
        "from gensim.models.fasttext import FastText\n",
        "model = FastText.load_fasttext_format('cc.en.300.bin')"
      ],
      "execution_count": 0,
      "outputs": []
    },
    {
      "cell_type": "code",
      "metadata": {
        "id": "Wue-ACwcDKmh",
        "colab_type": "code",
        "colab": {
          "base_uri": "https://localhost:8080/",
          "height": 1000
        },
        "outputId": "a326976d-bfaa-4bcb-8859-ee49480f7067"
      },
      "source": [
        "print(\"Python在字彙表裡?\", \"python\" in model.wv.vocab)\n",
        "print(\"Python詞向量:\", model.wv[\"python\"])"
      ],
      "execution_count": 40,
      "outputs": [
        {
          "output_type": "stream",
          "text": [
            "Python在字彙表裡? True\n",
            "Python詞向量: [ 1.95981190e-02  3.78159876e-03  4.74895630e-03  7.92267323e-02\n",
            "  6.68845922e-02 -7.18443980e-03  6.48623258e-02  4.89848703e-02\n",
            " -9.20052975e-02  5.92391491e-02 -7.53950626e-02 -8.23257267e-02\n",
            "  4.44779322e-02 -3.22346836e-02  5.85598275e-02  4.71360609e-02\n",
            "  3.70769724e-02 -9.47792158e-02  6.47180229e-02  1.12418365e-02\n",
            "  1.77852996e-02  5.09005375e-02  1.82811320e-02  6.78637475e-02\n",
            "  3.85015719e-02  5.07493801e-02 -7.81128481e-02  3.19471657e-01\n",
            " -2.63613509e-03  1.81071267e-01  4.19067070e-02  8.61264467e-02\n",
            "  2.73858961e-02  2.76972651e-02  4.51206416e-02 -3.11470143e-02\n",
            "  1.39031531e-02  3.54317725e-02  1.26607418e-01 -5.83171472e-02\n",
            " -1.26811475e-01  1.39958069e-01 -9.93684530e-02 -1.23504743e-01\n",
            " -9.55737084e-02  4.35452163e-02  2.98882164e-02  2.72210501e-02\n",
            " -9.17658061e-02  2.88797822e-02  5.88364527e-02 -9.18757170e-02\n",
            "  6.39526099e-02 -3.14087756e-02  5.79019412e-02  6.03919942e-03\n",
            "  6.07496984e-02 -6.75018728e-02 -6.78971857e-02  1.47038996e-01\n",
            "  8.46783444e-02  5.24125025e-02  6.84194565e-02  7.87830073e-03\n",
            " -1.33189827e-01  1.09434865e-01  1.74142085e-02 -1.18605092e-01\n",
            " -1.07120082e-01 -1.66229736e-02 -5.30945584e-02  2.40628421e-02\n",
            "  8.93564150e-03 -7.41748586e-02 -1.80652946e-01  9.56642777e-02\n",
            " -1.35608930e-02  6.67937696e-02 -9.62834992e-03 -3.24137881e-02\n",
            "  3.51536423e-02  6.98264092e-02 -5.35556190e-02  1.16488591e-01\n",
            " -2.23006159e-02  7.18610063e-02 -4.22475226e-02 -2.14807652e-02\n",
            "  4.05179746e-02 -1.78145282e-02 -2.54962202e-02  7.40870312e-02\n",
            "  1.22312456e-02 -6.78294450e-02  5.58857210e-02  3.52869481e-02\n",
            "  1.86210629e-02  2.32505798e-03  9.55282971e-02  6.52685240e-02\n",
            " -1.24964692e-01  2.52246205e-02  1.14191927e-01 -2.42768976e-04\n",
            " -6.91375211e-02  4.07378636e-02 -7.41266981e-02 -4.64388803e-02\n",
            " -1.42584786e-01 -5.55937774e-02 -3.73448506e-02 -3.63354981e-02\n",
            " -5.22966012e-02  1.78847052e-02 -6.96275532e-02  4.51977458e-03\n",
            " -6.62418306e-02 -5.74984923e-02  1.27696469e-02 -7.47895166e-02\n",
            " -1.32891625e-01  1.04831800e-01 -4.81931679e-02 -1.41617849e-01\n",
            "  7.50966650e-03  8.08558613e-03  4.45407592e-02  1.26157403e-01\n",
            "  3.56005132e-02 -3.49785499e-02 -1.18302703e-01 -3.52758355e-02\n",
            " -1.23751447e-01 -3.38647068e-02  2.08984371e-02 -5.07206321e-02\n",
            "  8.72593671e-02  5.11006229e-02  2.77262125e-02 -4.76691350e-02\n",
            " -9.33363289e-02  7.50810429e-02 -1.56270005e-02 -4.95908335e-02\n",
            " -1.01376791e-02  7.37049198e-03 -1.17575184e-01 -4.68481854e-02\n",
            " -4.62540053e-02 -1.01855396e-04 -1.34158810e-03  9.93534178e-02\n",
            "  6.39483682e-04 -4.91067581e-02 -1.30530717e-02 -4.08319617e-03\n",
            "  2.38271803e-02 -6.13925345e-02  1.03218637e-01 -4.37739082e-02\n",
            " -3.04763708e-02  1.00305937e-01  8.57959166e-02 -5.26236817e-02\n",
            "  9.13357511e-02 -1.06917312e-02  2.62595713e-02 -2.66658328e-02\n",
            "  7.11196586e-02  4.95020635e-02 -6.85865730e-02  7.69226179e-02\n",
            " -1.13594368e-01 -5.51656112e-02  1.18556041e-02  7.89534226e-02\n",
            "  1.31347537e-01  4.16577831e-02  1.52139664e-02  7.49226362e-02\n",
            "  1.73522104e-02 -1.76204033e-02  7.15391040e-02 -6.22714236e-02\n",
            "  3.53243276e-02  3.49696279e-02  6.64243773e-02  2.24848390e-02\n",
            "  1.12221790e-02 -1.58078317e-02 -9.57315639e-02 -3.93250510e-02\n",
            " -1.55847982e-01 -6.00491092e-02  2.68812831e-02 -1.41466139e-02\n",
            " -9.08709988e-02 -4.46968153e-02  9.26926360e-02 -6.55215383e-02\n",
            "  2.02246848e-02  1.20571861e-02 -4.52361889e-02  4.53556925e-02\n",
            " -4.49606311e-03  1.14939678e-02  5.54903261e-02  8.56451243e-02\n",
            "  1.49263237e-02  8.18238035e-02 -6.45745248e-02  2.95059774e-02\n",
            " -7.87962880e-03  2.15280522e-02  4.97403368e-02 -6.71747029e-02\n",
            "  2.19937079e-02 -8.70776772e-02  1.23245921e-02  4.77911197e-02\n",
            "  6.57691360e-02  6.34896606e-02  1.13914393e-01  5.92172444e-02\n",
            " -7.06360117e-03 -5.89502677e-02 -3.04251164e-02  1.71780735e-02\n",
            " -4.58534397e-02  7.31759220e-02 -8.77528638e-02  1.12088025e-01\n",
            "  6.41647726e-02 -2.00553656e-01 -8.12098384e-02  4.15867427e-03\n",
            " -5.09144552e-02  1.65213253e-02  2.47964766e-02  6.86885267e-02\n",
            "  1.59228116e-01  1.30424323e-02 -5.12882061e-02 -4.87225428e-02\n",
            "  5.80304787e-02  8.40559006e-02 -3.16086109e-03 -6.81498274e-02\n",
            " -6.81976452e-02  1.69676803e-02  1.30803064e-02  1.01984646e-02\n",
            " -5.10032475e-02 -2.10533552e-02 -8.04124773e-02 -3.36728841e-02\n",
            "  4.57112417e-02 -1.34828001e-01  1.65077969e-02 -1.97115950e-02\n",
            " -9.46152657e-02 -2.42165662e-02 -1.70832966e-02 -1.35243371e-01\n",
            " -6.49047345e-02  3.16947289e-02 -6.58747405e-02  6.64599091e-02\n",
            " -1.87030304e-02 -2.18276982e-03 -3.79450098e-02 -4.40971367e-02\n",
            " -5.15597872e-02  1.30138919e-02  7.89035670e-03 -2.13931315e-02\n",
            " -2.60608159e-02  2.59095728e-02 -3.20841447e-02 -7.63527080e-02\n",
            "  4.39106040e-02  2.23398674e-02 -4.74603362e-02  1.67009905e-01\n",
            "  1.78373996e-02  2.81205624e-02 -8.58523324e-02 -3.63686159e-02\n",
            "  3.22607681e-02 -2.50898391e-01 -1.48958415e-02  7.38940760e-02\n",
            " -4.42183502e-02  3.59118991e-02 -4.78895158e-02 -4.12931554e-02\n",
            "  5.33071999e-03  5.56051359e-02  1.16947532e-01  2.09637098e-02]\n"
          ],
          "name": "stdout"
        }
      ]
    },
    {
      "cell_type": "code",
      "metadata": {
        "id": "efqGaFiRh83G",
        "colab_type": "code",
        "colab": {
          "base_uri": "https://localhost:8080/",
          "height": 250
        },
        "outputId": "f2c1cc3b-f1ce-4e7b-ecf7-90bbe7e00fcc"
      },
      "source": [
        "# 找最相似的\n",
        "model.wv.most_similar(\"python\")"
      ],
      "execution_count": 60,
      "outputs": [
        {
          "output_type": "stream",
          "text": [
            "/usr/local/lib/python3.6/dist-packages/gensim/matutils.py:737: FutureWarning: Conversion of the second argument of issubdtype from `int` to `np.signedinteger` is deprecated. In future, it will be treated as `np.int64 == np.dtype(int).type`.\n",
            "  if np.issubdtype(vec.dtype, np.int):\n"
          ],
          "name": "stderr"
        },
        {
          "output_type": "execute_result",
          "data": {
            "text/plain": [
              "[('Python', 0.7497048377990723),\n",
              " ('python.', 0.7491012215614319),\n",
              " ('pythons', 0.7116353511810303),\n",
              " ('phyton', 0.6551913022994995),\n",
              " ('pythonic', 0.6375608444213867),\n",
              " ('perl', 0.6264603734016418),\n",
              " ('tkinter', 0.6188580989837646),\n",
              " ('wxpython', 0.611461341381073),\n",
              " ('jython', 0.6069285869598389),\n",
              " ('python3', 0.6038892865180969)]"
            ]
          },
          "metadata": {
            "tags": []
          },
          "execution_count": 60
        }
      ]
    },
    {
      "cell_type": "code",
      "metadata": {
        "id": "2nrOt6-NnoFk",
        "colab_type": "code",
        "colab": {
          "base_uri": "https://localhost:8080/",
          "height": 250
        },
        "outputId": "17377374-f3c3-4a7d-a338-780ef36dbe41"
      },
      "source": [
        "model.wv.similarity(\"hello\", \"hi\")\n",
        "model.wv.most_similar(\"hi\")"
      ],
      "execution_count": 53,
      "outputs": [
        {
          "output_type": "stream",
          "text": [
            "/usr/local/lib/python3.6/dist-packages/gensim/matutils.py:737: FutureWarning: Conversion of the second argument of issubdtype from `int` to `np.signedinteger` is deprecated. In future, it will be treated as `np.int64 == np.dtype(int).type`.\n",
            "  if np.issubdtype(vec.dtype, np.int):\n"
          ],
          "name": "stderr"
        },
        {
          "output_type": "execute_result",
          "data": {
            "text/plain": [
              "[('hi.', 0.7207542061805725),\n",
              " ('hello', 0.7038339376449585),\n",
              " ('Hi', 0.6972988843917847),\n",
              " ('hello.', 0.643159806728363),\n",
              " ('hi-', 0.639056921005249),\n",
              " ('hiii', 0.6334205269813538),\n",
              " ('hiiiii', 0.6147910356521606),\n",
              " ('Hi.', 0.6142926216125488),\n",
              " ('Hi-', 0.6103168725967407),\n",
              " ('hellow', 0.6085600256919861)]"
            ]
          },
          "metadata": {
            "tags": []
          },
          "execution_count": 53
        }
      ]
    },
    {
      "cell_type": "code",
      "metadata": {
        "id": "guHdtSZkm0x1",
        "colab_type": "code",
        "colab": {
          "base_uri": "https://localhost:8080/",
          "height": 90
        },
        "outputId": "8b3edfc1-b112-4834-e791-ee9370aefa1d"
      },
      "source": [
        "# 比較兩組詞彙是不是一樣的相差概念\n",
        "model.wv.n_similarity(['boy', 'man'], ['girl', 'woman'])"
      ],
      "execution_count": 56,
      "outputs": [
        {
          "output_type": "stream",
          "text": [
            "/usr/local/lib/python3.6/dist-packages/gensim/matutils.py:737: FutureWarning: Conversion of the second argument of issubdtype from `int` to `np.signedinteger` is deprecated. In future, it will be treated as `np.int64 == np.dtype(int).type`.\n",
            "  if np.issubdtype(vec.dtype, np.int):\n"
          ],
          "name": "stderr"
        },
        {
          "output_type": "execute_result",
          "data": {
            "text/plain": [
              "0.7900978"
            ]
          },
          "metadata": {
            "tags": []
          },
          "execution_count": 56
        }
      ]
    },
    {
      "cell_type": "code",
      "metadata": {
        "id": "A3m66PlJJzgo",
        "colab_type": "code",
        "colab": {
          "base_uri": "https://localhost:8080/",
          "height": 143
        },
        "outputId": "e3746141-637e-4111-ae49-2623d0e44050"
      },
      "source": [
        "# 找到不match的\n",
        "model.wv.doesnt_match([\"morning\", \"afternoon\", \"evening\", \"python\"])"
      ],
      "execution_count": 59,
      "outputs": [
        {
          "output_type": "stream",
          "text": [
            "找到不match的\n"
          ],
          "name": "stdout"
        },
        {
          "output_type": "stream",
          "text": [
            "/usr/local/lib/python3.6/dist-packages/gensim/models/keyedvectors.py:895: FutureWarning: arrays to stack must be passed as a \"sequence\" type such as list or tuple. Support for non-sequence iterables such as generators is deprecated as of NumPy 1.16 and will raise an error in the future.\n",
            "  vectors = vstack(self.word_vec(word, use_norm=True) for word in used_words).astype(REAL)\n",
            "/usr/local/lib/python3.6/dist-packages/gensim/matutils.py:737: FutureWarning: Conversion of the second argument of issubdtype from `int` to `np.signedinteger` is deprecated. In future, it will be treated as `np.int64 == np.dtype(int).type`.\n",
            "  if np.issubdtype(vec.dtype, np.int):\n"
          ],
          "name": "stderr"
        },
        {
          "output_type": "execute_result",
          "data": {
            "text/plain": [
              "'python'"
            ]
          },
          "metadata": {
            "tags": []
          },
          "execution_count": 59
        }
      ]
    },
    {
      "cell_type": "code",
      "metadata": {
        "id": "i2kMoj47KTl1",
        "colab_type": "code",
        "colab": {
          "base_uri": "https://localhost:8080/",
          "height": 250
        },
        "outputId": "0012fac7-386c-4234-d5eb-21d12c3ea143"
      },
      "source": [
        "# woman - man = king - queen\n",
        "model.wv.most_similar(positive=['woman', 'king'], negative=['man'])"
      ],
      "execution_count": 63,
      "outputs": [
        {
          "output_type": "stream",
          "text": [
            "/usr/local/lib/python3.6/dist-packages/gensim/matutils.py:737: FutureWarning: Conversion of the second argument of issubdtype from `int` to `np.signedinteger` is deprecated. In future, it will be treated as `np.int64 == np.dtype(int).type`.\n",
            "  if np.issubdtype(vec.dtype, np.int):\n"
          ],
          "name": "stderr"
        },
        {
          "output_type": "execute_result",
          "data": {
            "text/plain": [
              "[('queen', 0.7554813623428345),\n",
              " ('queen-mother', 0.6141632199287415),\n",
              " ('princess', 0.5755329132080078),\n",
              " ('monarch', 0.5741075873374939),\n",
              " ('kings', 0.5688967108726501),\n",
              " ('queenship', 0.5649925470352173),\n",
              " ('Queen', 0.5638619661331177),\n",
              " ('empress', 0.5544730424880981),\n",
              " ('consort', 0.5524798035621643),\n",
              " ('queen.The', 0.5497488379478455)]"
            ]
          },
          "metadata": {
            "tags": []
          },
          "execution_count": 63
        }
      ]
    },
    {
      "cell_type": "code",
      "metadata": {
        "id": "HLRapN-WLb6n",
        "colab_type": "code",
        "colab": {
          "base_uri": "https://localhost:8080/",
          "height": 250
        },
        "outputId": "7ddfe86c-c55f-4f60-9002-98eedf9802c2"
      },
      "source": [
        "# woman - man = boy - girl\n",
        "model.wv.most_similar(positive=['woman', 'boy'], negative=['man'])"
      ],
      "execution_count": 65,
      "outputs": [
        {
          "output_type": "stream",
          "text": [
            "/usr/local/lib/python3.6/dist-packages/gensim/matutils.py:737: FutureWarning: Conversion of the second argument of issubdtype from `int` to `np.signedinteger` is deprecated. In future, it will be treated as `np.int64 == np.dtype(int).type`.\n",
            "  if np.issubdtype(vec.dtype, np.int):\n"
          ],
          "name": "stderr"
        },
        {
          "output_type": "execute_result",
          "data": {
            "text/plain": [
              "[('girl', 0.8692589998245239),\n",
              " ('girls', 0.6373742818832397),\n",
              " ('girl.Now', 0.6355817317962646),\n",
              " ('child', 0.6304608583450317),\n",
              " ('girl.But', 0.6215219497680664),\n",
              " ('daughter', 0.6205319762229919),\n",
              " ('girl.A', 0.6191054582595825),\n",
              " ('girl.When', 0.6157717108726501),\n",
              " ('nine-year-old', 0.6143215298652649),\n",
              " ('girl--', 0.6127748489379883)]"
            ]
          },
          "metadata": {
            "tags": []
          },
          "execution_count": 65
        }
      ]
    },
    {
      "cell_type": "code",
      "metadata": {
        "id": "pp810Cp4MhPc",
        "colab_type": "code",
        "colab": {
          "base_uri": "https://localhost:8080/",
          "height": 70
        },
        "outputId": "3f741f66-a889-4cb9-e9e3-59acdd8952f5"
      },
      "source": [
        "import nltk\n",
        "nltk.download('stopwords')\n",
        "# Word Movers distance\n",
        "sentence_obama = 'Obama speaks to the media in Illinois'.lower().split()\n",
        "sentence_president = 'The president greets the press in Chicago'.lower().split()\n",
        "\n",
        "# Remove their stopwords.\n",
        "from nltk.corpus import stopwords\n",
        "stopwords = stopwords.words('english')\n",
        "sentence_obama = [w for w in sentence_obama if w not in stopwords]\n",
        "sentence_president = [w for w in sentence_president if w not in stopwords]\n",
        "\n",
        "# Compute WMD.\n",
        "distance = model.wv.wmdistance(sentence_obama, sentence_president)\n",
        "distance"
      ],
      "execution_count": 68,
      "outputs": [
        {
          "output_type": "stream",
          "text": [
            "[nltk_data] Downloading package stopwords to /root/nltk_data...\n",
            "[nltk_data]   Package stopwords is already up-to-date!\n"
          ],
          "name": "stdout"
        },
        {
          "output_type": "execute_result",
          "data": {
            "text/plain": [
              "0.9925199205029905"
            ]
          },
          "metadata": {
            "tags": []
          },
          "execution_count": 68
        }
      ]
    }
  ]
}